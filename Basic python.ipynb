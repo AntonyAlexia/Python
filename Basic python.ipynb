{
 "cells": [
  {
   "cell_type": "code",
   "execution_count": 1,
   "id": "92a06df7",
   "metadata": {},
   "outputs": [
    {
     "name": "stdout",
     "output_type": "stream",
     "text": [
      "Value for key 'crew': FLOAT\n",
      "Value for key 'firstName': John1\n",
      "Value for key 'firstName': John2\n",
      "5th element: 4\n",
      "Last three elements: [4, 5, 6]\n",
      "Length of the list: 7\n",
      "Keys of the dictionary dict_a: dict_keys(['a', 'b'])\n",
      "Values of the dictionary dict_a: dict_values([1, 2])\n",
      "Value of the key 'b': 2\n",
      "Usage: python parse_cl_args.py <arg1>\n"
     ]
    },
    {
     "ename": "SystemExit",
     "evalue": "1",
     "output_type": "error",
     "traceback": [
      "An exception has occurred, use %tb to see the full traceback.\n",
      "\u001b[0;31mSystemExit\u001b[0m\u001b[0;31m:\u001b[0m 1\n"
     ]
    },
    {
     "name": "stderr",
     "output_type": "stream",
     "text": [
      "/Users/antonyalexiasebasthikannu/anaconda3/lib/python3.10/site-packages/IPython/core/interactiveshell.py:3468: UserWarning: To exit: use 'exit', 'quit', or Ctrl-D.\n",
      "  warn(\"To exit: use 'exit', 'quit', or Ctrl-D.\", stacklevel=1)\n"
     ]
    }
   ],
   "source": [
    "import json\n",
    "import requests\n",
    "import gzip\n",
    "import sys\n",
    "#1. Read the Json file and print value for key = crew\n",
    "response = requests.get(\"https://raw.githubusercontent.com/bhargav-velisetti/flink_examples/master/data/cruise_ship_schema.json\")\n",
    "data = response.json()\n",
    "print(\"Value for key 'crew':\", data.get(\"crew\"))\n",
    "\n",
    "#2. Read this json file, loop over it and print values for the key = firstName\n",
    "response = requests.get(\"https://raw.githubusercontent.com/bhargav-velisetti/apache_beam_examples_java/master/data/sample-data.json\")\n",
    "for line in response.iter_lines():\n",
    "    if line:\n",
    "        item = json.loads(line)\n",
    "        print(\"Value for key 'firstName':\", item.get(\"firstName\"))\n",
    "\n",
    "#3. Print 5th element\n",
    "list_a = [0, 1, 2, 3, 4, 5, 6]\n",
    "print(\"5th element:\", list_a[4])\n",
    "#4. Last three elements\n",
    "print(\"Last three elements:\", list_a[-3:])\n",
    "#5. Print Len of the list\n",
    "print(\"Length of the list:\", len(list_a))\n",
    "#6. Print keys of the dictionary dict_a\n",
    "dict_a = {'a': 1, 'b': 2}\n",
    "print(\"Keys of the dictionary dict_a:\", dict_a.keys())\n",
    "#7. Print values of the dictionary dict_a\n",
    "print(\"Values of the dictionary dict_a:\", dict_a.values())\n",
    "#8. Print value of the key = b\n",
    "print(\"Value of the key 'b':\", dict_a.get('b'))\n",
    "#9. Pass Python Command Line args\n",
    "def parse_command_line_args():\n",
    "    if len(sys.argv) != 2:\n",
    "        print(\"Usage: python parse_cl_args.py <arg1>\")\n",
    "        sys.exit(1)\n",
    "    args = sys.argv[1].split()\n",
    "    for arg in args:\n",
    "        print(arg)\n",
    "#10. Request library for rest calls\n",
    "def download_github_activity_history():\n",
    "    for hour in range(24):\n",
    "        url = f\"https://data.gharchive.org/2015-01-01-{hour:02d}.json.gz\"\n",
    "        response = requests.get(url)\n",
    "        with open(f\"activity_{hour:02d}.json.gz\", \"wb\") as f:\n",
    "            f.write(response.content)\n",
    "            print(f\"Downloaded activity for hour {hour}\")\n",
    "\n",
    "if __name__ == \"__main__\":\n",
    "    parse_command_line_args()\n",
    "    download_github_activity_history()"
   ]
  },
  {
   "cell_type": "code",
   "execution_count": 2,
   "id": "9a6fbbec",
   "metadata": {},
   "outputs": [
    {
     "name": "stdout",
     "output_type": "stream",
     "text": [
      "\u001b[1m============================= test session starts ==============================\u001b[0m\n",
      "platform darwin -- Python 3.10.9, pytest-7.1.2, pluggy-1.0.0 -- /Users/antonyalexiasebasthikannu/anaconda3/bin/python\n",
      "cachedir: .pytest_cache\n",
      "rootdir: /Users/antonyalexiasebasthikannu/Alexia\n",
      "plugins: anyio-3.5.0\n",
      "\u001b[1mcollecting ... \u001b[0mcollected 0 items\n",
      "\n",
      "\u001b[33m============================ \u001b[33mno tests ran\u001b[0m\u001b[33m in 0.00s\u001b[0m\u001b[33m =============================\u001b[0m\n"
     ]
    }
   ],
   "source": [
    "import os\n",
    "import requests\n",
    "import pytest\n",
    "\n",
    "def download_gh():\n",
    "    url = \"https://data.gharchive.org/2023-03-01-10.json.gz\"\n",
    "    filename = \"2023-03-01-10.json.gz\"\n",
    "    response = requests.get(url)\n",
    "    if response.status_code == 200:\n",
    "        with open(filename, \"wb\") as f:\n",
    "            f.write(response.content)\n",
    "        return os.path.abspath(filename)\n",
    "    else:\n",
    "\n",
    "        return None\n",
    "\n",
    "def test_download_gh():\n",
    "    downloaded_file = download_gh()\n",
    "\n",
    "    assert downloaded_file is not None, \"File download failed.\"\n",
    "\n",
    "    assert os.path.exists(downloaded_file), \"Downloaded file does not exist.\"\n",
    "\n",
    "    assert os.path.getsize(downloaded_file) > 0, \"Downloaded file is empty.\"\n",
    "\n",
    "if __name__ == \"__main__\":\n",
    "    pytest.main([\"-v\"])"
   ]
  },
  {
   "cell_type": "code",
   "execution_count": null,
   "id": "9742518d",
   "metadata": {},
   "outputs": [],
   "source": []
  }
 ],
 "metadata": {
  "kernelspec": {
   "display_name": "Python 3 (ipykernel)",
   "language": "python",
   "name": "python3"
  },
  "language_info": {
   "codemirror_mode": {
    "name": "ipython",
    "version": 3
   },
   "file_extension": ".py",
   "mimetype": "text/x-python",
   "name": "python",
   "nbconvert_exporter": "python",
   "pygments_lexer": "ipython3",
   "version": "3.10.9"
  }
 },
 "nbformat": 4,
 "nbformat_minor": 5
}
