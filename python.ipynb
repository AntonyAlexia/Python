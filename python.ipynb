{
 "cells": [
  {
   "cell_type": "code",
   "execution_count": 8,
   "id": "initial_id",
   "metadata": {
    "collapsed": true,
    "ExecuteTime": {
     "end_time": "2024-05-12T16:25:35.755466Z",
     "start_time": "2024-05-12T16:25:35.499639Z"
    }
   },
   "outputs": [
    {
     "name": "stdout",
     "output_type": "stream",
     "text": [
      "Value for key 'crew': FLOAT\n",
      "Value for key 'firstName': John1\n",
      "Value for key 'firstName': John2\n",
      "5th element: 4\n",
      "Last three elements: [4, 5, 6]\n",
      "Length of the list: 7\n",
      "Keys of the dictionary dict_a: dict_keys(['a', 'b'])\n",
      "Values of the dictionary dict_a: dict_values([1, 2])\n",
      "Value of the key 'b': 2\n",
      "Usage: python parse_cl_args.py <arg1>\n"
     ]
    },
    {
     "ename": "SystemExit",
     "evalue": "1",
     "output_type": "error",
     "traceback": [
      "An exception has occurred, use %tb to see the full traceback.\n",
      "\u001B[0;31mSystemExit\u001B[0m\u001B[0;31m:\u001B[0m 1\n"
     ]
    }
   ],
   "source": [
    "import json\n",
    "import requests\n",
    "import gzip\n",
    "import sys\n",
    "#1. Read the Json file and print value for key = crew\n",
    "response = requests.get(\"https://raw.githubusercontent.com/bhargav-velisetti/flink_examples/master/data/cruise_ship_schema.json\")\n",
    "data = response.json()\n",
    "print(\"Value for key 'crew':\", data.get(\"crew\"))\n",
    "\n",
    "#2. Read this json file, loop over it and print values for the key = firstName\n",
    "response = requests.get(\"https://raw.githubusercontent.com/bhargav-velisetti/apache_beam_examples_java/master/data/sample-data.json\")\n",
    "for line in response.iter_lines():\n",
    "    if line:\n",
    "        item = json.loads(line)\n",
    "        print(\"Value for key 'firstName':\", item.get(\"firstName\"))\n",
    "\n",
    "#3. Print 5th element\n",
    "list_a = [0, 1, 2, 3, 4, 5, 6]\n",
    "print(\"5th element:\", list_a[4])\n",
    "#4. Last three elements\n",
    "print(\"Last three elements:\", list_a[-3:])\n",
    "#5. Print Len of the list\n",
    "print(\"Length of the list:\", len(list_a))\n",
    "#6. Print keys of the dictionary dict_a\n",
    "dict_a = {'a': 1, 'b': 2}\n",
    "print(\"Keys of the dictionary dict_a:\", dict_a.keys())\n",
    "#7. Print values of the dictionary dict_a\n",
    "print(\"Values of the dictionary dict_a:\", dict_a.values())\n",
    "#8. Print value of the key = b\n",
    "print(\"Value of the key 'b':\", dict_a.get('b'))\n",
    "#9. Pass Python Command Line args\n",
    "def parse_command_line_args():\n",
    "    if len(sys.argv) != 2:\n",
    "        print(\"Usage: python parse_cl_args.py <arg1>\")\n",
    "        sys.exit(1)\n",
    "    args = sys.argv[1].split()\n",
    "    for arg in args:\n",
    "        print(arg)\n",
    "#10. Request library for rest calls\n",
    "def download_github_activity_history():\n",
    "    for hour in range(24):\n",
    "        url = f\"https://data.gharchive.org/2015-01-01-{hour:02d}.json.gz\"\n",
    "        response = requests.get(url)\n",
    "        with open(f\"activity_{hour:02d}.json.gz\", \"wb\") as f:\n",
    "            f.write(response.content)\n",
    "            print(f\"Downloaded activity for hour {hour}\")\n",
    "\n",
    "if __name__ == \"__main__\":\n",
    "    parse_command_line_args()\n",
    "    download_github_activity_history()\n"
   ]
  },
  {
   "cell_type": "code",
   "outputs": [
    {
     "name": "stdout",
     "output_type": "stream",
     "text": [
      "\u001B[1m============================= test session starts ==============================\u001B[0m\n",
      "platform darwin -- Python 3.8.18, pytest-8.2.0, pluggy-1.5.0 -- /Users/antonyalexiasebasthikannu/anaconda3/envs/ds/bin/python\n",
      "cachedir: .pytest_cache\n",
      "rootdir: /Users/antonyalexiasebasthikannu/DataspellProjects/untitled\n",
      "plugins: anyio-3.5.0\n",
      "\u001B[1mcollecting ... \u001B[0mcollected 0 items\n",
      "\n",
      "\u001B[33m============================ \u001B[33mno tests ran\u001B[0m\u001B[33m in 0.03s\u001B[0m\u001B[33m =============================\u001B[0m\n"
     ]
    }
   ],
   "source": [
    "import os\n",
    "import requests\n",
    "import pytest\n",
    "\n",
    "def download_gh():\n",
    "    \"\"\"\n",
    "    Download File of 2023 March 01 10AM into your computer filesystem.\n",
    "    \n",
    "    Returns:\n",
    "        str: Fully qualified path of downloaded file from your computer filesystem.\n",
    "    \"\"\"\n",
    "    url = \"https://data.gharchive.org/2023-03-01-10.json.gz\"\n",
    "    filename = \"2023-03-01-10.json.gz\"\n",
    "    response = requests.get(url)\n",
    "    if response.status_code == 200:\n",
    "        with open(filename, \"wb\") as f:\n",
    "            f.write(response.content)\n",
    "        return os.path.abspath(filename)\n",
    "    else:\n",
    "\n",
    "        return None\n",
    "\n",
    "def test_download_gh():\n",
    "    \"\"\"\n",
    "    Test function for download_gh().\n",
    "    \"\"\"\n",
    "    downloaded_file = download_gh()\n",
    "\n",
    "    assert downloaded_file is not None, \"File download failed.\"\n",
    "\n",
    "    assert os.path.exists(downloaded_file), \"Downloaded file does not exist.\"\n",
    "\n",
    "    assert os.path.getsize(downloaded_file) > 0, \"Downloaded file is empty.\"\n",
    "\n",
    "if __name__ == \"__main__\":\n",
    "    pytest.main([\"-v\"])\n"
   ],
   "metadata": {
    "collapsed": false,
    "ExecuteTime": {
     "end_time": "2024-05-12T16:17:09.644045Z",
     "start_time": "2024-05-12T16:17:09.341484Z"
    }
   },
   "id": "ee43b684c92a5328",
   "execution_count": 5
  },
  {
   "cell_type": "code",
   "outputs": [],
   "source": [],
   "metadata": {
    "collapsed": false
   },
   "id": "1b52edf08ce094"
  }
 ],
 "metadata": {
  "kernelspec": {
   "display_name": "Python 3",
   "language": "python",
   "name": "python3"
  },
  "language_info": {
   "codemirror_mode": {
    "name": "ipython",
    "version": 2
   },
   "file_extension": ".py",
   "mimetype": "text/x-python",
   "name": "python",
   "nbconvert_exporter": "python",
   "pygments_lexer": "ipython2",
   "version": "2.7.6"
  }
 },
 "nbformat": 4,
 "nbformat_minor": 5
}
